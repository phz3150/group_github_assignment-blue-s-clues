{
 "cells": [
  {
   "cell_type": "markdown",
   "metadata": {},
   "source": [
    "#### Homework 10\n",
    "#### Bonus Problem\n",
    "#### PHZ 3150\n",
    "#### Blue's Clues\n",
    "#### 3.22.2021"
   ]
  },
  {
   "cell_type": "code",
   "execution_count": 1,
   "metadata": {},
   "outputs": [],
   "source": [
    "import numpy as np"
   ]
  },
  {
   "cell_type": "code",
   "execution_count": 5,
   "metadata": {},
   "outputs": [],
   "source": [
    "velocity = list(range(0, 100, 10))\n",
    "time = list(range(0, 1000, 100))"
   ]
  },
  {
   "cell_type": "code",
   "execution_count": 12,
   "metadata": {},
   "outputs": [],
   "source": [
    "from acceleration import acceleration\n",
    "from displacement import displacement\n",
    "from acceleration_to_force import acceleration_to_force"
   ]
  },
  {
   "cell_type": "code",
   "execution_count": 27,
   "metadata": {},
   "outputs": [
    {
     "name": "stdout",
     "output_type": "stream",
     "text": [
      "The acceleration for a body with v1 = 0 m/s, v2 = 10 m/s, t1= 0 s, and t2= 100 s is 0.1 m/s^2\n",
      "The force on a 10 kg body with acceleration= 0.1 m/s^2 is 1.0 N\n",
      "The displacement of a body with initial velocity = 0 m/s, time interval = 100 s, and acceleration = 0.1 m/s^2 is 500.0 m\n",
      "\n",
      "The acceleration for a body with v1 = 10 m/s, v2 = 20 m/s, t1= 100 s, and t2= 200 s is 0.1 m/s^2\n",
      "The force on a 10 kg body with acceleration= 0.1 m/s^2 is 1.0 N\n",
      "The displacement of a body with initial velocity = 10 m/s, time interval = 100 s, and acceleration = 0.1 m/s^2 is 1500.0 m\n",
      "\n",
      "The acceleration for a body with v1 = 20 m/s, v2 = 30 m/s, t1= 200 s, and t2= 300 s is 0.1 m/s^2\n",
      "The force on a 10 kg body with acceleration= 0.1 m/s^2 is 1.0 N\n",
      "The displacement of a body with initial velocity = 20 m/s, time interval = 100 s, and acceleration = 0.1 m/s^2 is 2500.0 m\n",
      "\n",
      "The acceleration for a body with v1 = 30 m/s, v2 = 40 m/s, t1= 300 s, and t2= 400 s is 0.1 m/s^2\n",
      "The force on a 10 kg body with acceleration= 0.1 m/s^2 is 1.0 N\n",
      "The displacement of a body with initial velocity = 30 m/s, time interval = 100 s, and acceleration = 0.1 m/s^2 is 3500.0 m\n",
      "\n",
      "The acceleration for a body with v1 = 40 m/s, v2 = 50 m/s, t1= 400 s, and t2= 500 s is 0.1 m/s^2\n",
      "The force on a 10 kg body with acceleration= 0.1 m/s^2 is 1.0 N\n",
      "The displacement of a body with initial velocity = 40 m/s, time interval = 100 s, and acceleration = 0.1 m/s^2 is 4500.0 m\n",
      "\n",
      "The acceleration for a body with v1 = 50 m/s, v2 = 60 m/s, t1= 500 s, and t2= 600 s is 0.1 m/s^2\n",
      "The force on a 10 kg body with acceleration= 0.1 m/s^2 is 1.0 N\n",
      "The displacement of a body with initial velocity = 50 m/s, time interval = 100 s, and acceleration = 0.1 m/s^2 is 5500.0 m\n",
      "\n",
      "The acceleration for a body with v1 = 60 m/s, v2 = 70 m/s, t1= 600 s, and t2= 700 s is 0.1 m/s^2\n",
      "The force on a 10 kg body with acceleration= 0.1 m/s^2 is 1.0 N\n",
      "The displacement of a body with initial velocity = 60 m/s, time interval = 100 s, and acceleration = 0.1 m/s^2 is 6500.0 m\n",
      "\n",
      "The acceleration for a body with v1 = 70 m/s, v2 = 80 m/s, t1= 700 s, and t2= 800 s is 0.1 m/s^2\n",
      "The force on a 10 kg body with acceleration= 0.1 m/s^2 is 1.0 N\n",
      "The displacement of a body with initial velocity = 70 m/s, time interval = 100 s, and acceleration = 0.1 m/s^2 is 7500.0 m\n",
      "\n",
      "The acceleration for a body with v1 = 80 m/s, v2 = 90 m/s, t1= 800 s, and t2= 900 s is 0.1 m/s^2\n",
      "The force on a 10 kg body with acceleration= 0.1 m/s^2 is 1.0 N\n",
      "The displacement of a body with initial velocity = 80 m/s, time interval = 100 s, and acceleration = 0.1 m/s^2 is 8500.0 m\n",
      "\n"
     ]
    }
   ],
   "source": [
    "for i in range(len(velocity)-1):\n",
    "    a = acceleration(velocity[i], velocity[i+1], time[i], time[i+1])\n",
    "    print(\"The acceleration for a body with v1 =\", velocity[i], \"m/s, v2 =\", velocity[i+1], \"m/s, t1=\", time[i], \"s, and t2=\", time[i+1], \"s is\", a, \"m/s^2\")\n",
    "    b = acceleration_to_force(10, a)\n",
    "    print(\"The force on a 10 kg body with acceleration=\", a,\"m/s^2 is\", b, \"N\")\n",
    "    c = displacement(velocity[i], time[i+1]-time[i], a)\n",
    "    print(\"The displacement of a body with initial velocity =\", velocity[i], \"m/s, time interval =\", time[i+1]-time[i], \"s, and acceleration =\", a, \"m/s^2 is\", c, \"m\\n\")"
   ]
  },
  {
   "cell_type": "code",
   "execution_count": null,
   "metadata": {},
   "outputs": [],
   "source": []
  }
 ],
 "metadata": {
  "kernelspec": {
   "display_name": "Python 3",
   "language": "python",
   "name": "python3"
  },
  "language_info": {
   "codemirror_mode": {
    "name": "ipython",
    "version": 3
   },
   "file_extension": ".py",
   "mimetype": "text/x-python",
   "name": "python",
   "nbconvert_exporter": "python",
   "pygments_lexer": "ipython3",
   "version": "3.8.5"
  }
 },
 "nbformat": 4,
 "nbformat_minor": 4
}
